{
 "cells": [
  {
   "cell_type": "markdown",
   "id": "02a61431",
   "metadata": {},
   "source": [
    "E-Waste Detection Model Training"
   ]
  },
  {
   "cell_type": "code",
   "execution_count": null,
   "id": "190b491f",
   "metadata": {
    "vscode": {
     "languageId": "plaintext"
    }
   },
   "outputs": [],
   "source": []
  }
 ],
 "metadata": {
  "language_info": {
   "name": "python"
  }
 },
 "nbformat": 4,
 "nbformat_minor": 5
}
